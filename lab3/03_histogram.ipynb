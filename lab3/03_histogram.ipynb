{
 "cells": [
  {
   "cell_type": "markdown",
   "metadata": {
    "pycharm": {
     "name": "#%% md\n"
    }
   },
   "source": [
    "# Histogram obrazu. Wyrównywanie histogramu."
   ]
  },
  {
   "cell_type": "markdown",
   "metadata": {
    "collapsed": false,
    "pycharm": {
     "name": "#%% md\n"
    }
   },
   "source": [
    "## Cel ćwiczenia\n",
    "\n",
    "- Zapoznanie z pojęciem histogramu obrazu (w odcieniach szarości i kolorze).\n",
    "- Zapoznanie z metodami modyfikacji histogramu (rozciąganie, wyrównywanie, dopasowywanie)."
   ]
  },
  {
   "cell_type": "markdown",
   "metadata": {
    "collapsed": false,
    "pycharm": {
     "name": "#%% md\n"
    }
   },
   "source": [
    "## Histogram\n",
    "\n",
    "- Histogramem obrazu nazywamy wykres słupkowy zdefiniowany następującymi zależnościami:<br>\n",
    "\\begin{equation}\n",
    "h(i) = \\sum_{x=0}^{N-1} \\sum_{y=0}^{M-1} p(i,(x,y))\n",
    "\\end{equation}<br>\n",
    "gdzie:<br>\n",
    "\\begin{equation}\n",
    "p(i) =  \\left\\{\n",
    "  \\begin{array}{l l}\n",
    "    1 & \\quad \\text{gdy} f(x,y) = i\\\\\n",
    "    0 & \\quad \\text{gdy} f(x,y) \\ne i\n",
    "  \\end{array} \\right.\n",
    "\\end{equation}\n",
    "\n",
    "- Inaczej mówiąc, histogram zawiera informacje na temat tego ile pikseli o danym poziomie jasności występuje na obrazie (w przypadku obrazu w odcieniach szarości). Określa się to także rozkładem empirycznym cechy.\n",
    "\n",
    "- Często wykorzystuje się tzw. znormalizowaną postać histogramu  – wszystkie wartości $h(i)$ są dzielone przez liczbę pikseli na obrazie.\n",
    "Otrzymana w ten sposób wielkość to gęstość prawdopodobieństwa wystąpienia na obrazie pikseli o odcieniu $i$.\n",
    "\n",
    "- Histogram można zdefiniować również dla obrazów kolorowych.\n",
    "Otrzymujemy wtedy 3 histogramy – po jednym dla danej składowej: R,G,B (lub HSV, YCbCr, itp.) lub histogram trójwymiarowy.\n",
    "\n",
    "- Histogram jest bardzo użyteczny w przetwarzaniu i analizie obrazów.\n",
    "Wykorzystywany jest przy binaryzacji (szerzej na jednym z kolejnych laboratoriów) oraz do oceny jakości (dynamiki, kontrastu) obrazu.\n",
    "W idealnym przypadku wszystkie poziomy jasności w obrazie powinny być wykorzystane (i to najlepiej w miarę jednolicie)  – obrazowo mówiąc histogram powinien rozciągać się od 0  – 255 (obraz w skali szarości).\n",
    "\n",
    "- W przypadku gdy  wykorzystujemy jedynie fragment dostępnego zakresu (wąski histogram)  lub histogram nie jest jednolity (występują dominujące grupy pikseli) obraz ma dość słaby kontrast.\n",
    "Cechę tę można poprawić stosując tzw. rozciąganie albo wyrównywanie histogramu (ang. *histogram equalization*).</div>"
   ]
  },
  {
   "cell_type": "markdown",
   "metadata": {
    "collapsed": false,
    "pycharm": {
     "name": "#%% md\n"
    }
   },
   "source": [
    "## Histogram dla obrazów w odcieniach szarości\n",
    "\n",
    "1. Zaimportuj potrzebne biblioteki: *OpenCV*, *pyplot* z *matplotlib* i *numpy*.\n",
    "        import cv2\n",
    "        from matplotlib import pyplot as plt\n",
    "        import numpy as np\n",
    "2. Wczytaj obrazy *lenaX.bmp* w skali szarości. *X* jest numerem wczytywanego obrazu (1 - 4).\n",
    "        I = cv2.imread('lenaX.bmp', cv2.IMREAD_GRAYSCALE)\n",
    "3. Oblicz histogram wczytanego obrazu wykorzystując funkcję `cv2.calcHist`.\n",
    "    - Pierwszym argumentem jest obraz, dla którego obliczony zostanie histogram.\n",
    "    Należy go przekazać w nawiasie kwadratowym.\n",
    "    - Drugim argumentem jest numer kanału, dla którego ma zostać obliczony histogram.\n",
    "    Również powinien być przekazany w nawiasie kwadratowym.\n",
    "    - Trzeci argument oznacza maskę, czyli obszar, dla którego ma zostać wyznaczony histogram.\n",
    "    Aby obliczyć dla całego obrazu należy przekazać *None*.\n",
    "    - Czwartym argumentem jest rozmiar histogramu (liczba przedziałów).\n",
    "    Argument powinien być w nawiasie kwadratowym. Dla pełnej skali należy przekazać wartość *256*.\n",
    "    - Ostatnim argumentem jest zakres wartości. Dla obrazów typu *uint8* powinien on wynosić *[0, 256]*.\n",
    "    - Funkcja zwraca obliczony histogram.\n",
    "4. Wyświetl wczytane obrazy i ich histogramy w jednym oknie. Użyj `plt.subplot()` w celu stworzenia siatki wykresów.\n",
    "        figLena, axsLena = plt.subplots(2, 4)\n",
    "Rozmiar utworzonego okna można zmienić wykorzystując instrukcję (uwaga w calach -  1 cal to 2.54cm):\n",
    "        figLena.set_size_inches(20, 10)\n",
    "Przykładowe wyświetlenie obrazu:\n",
    "        axsLena[0, 0].imshow(I1, 'gray', vmin=0, vmax=256)\n",
    "        axsLena[0, 0].axis('off')\n",
    "Przykładowe wyświetlenie histogramu:\n",
    "        axsLena[1, 0].plot(H1)\n",
    "        axsLena[1, 0].grid()\n",
    "5. Przeanalizuj (dokładnie) związek histogramu z jasnością i ostrością obrazu (tu rozumianą jako subiektywne odczucie)."
   ]
  },
  {
   "cell_type": "code",
   "execution_count": null,
   "metadata": {
    "pycharm": {
     "name": "#%% Zadanie 1 - wyświetlanie\n"
    }
   },
   "outputs": [],
   "source": [
    "import cv2\n",
    "import os\n",
    "from matplotlib import pyplot as plt\n",
    "import numpy as np\n",
    "\n",
    "if not os.path.exists(\"lena1.bmp\") :\n",
    "    !wget https://raw.githubusercontent.com/vision-agh/poc_sw/master/03_Histogram/lena1.bmp --no-check-certificate\n",
    "\n",
    "if not os.path.exists(\"lena2.bmp\") :\n",
    "    !wget https://raw.githubusercontent.com/vision-agh/poc_sw/master/03_Histogram/lena2.bmp --no-check-certificate\n",
    "\n",
    "if not os.path.exists(\"lena3.bmp\") :\n",
    "    !wget https://raw.githubusercontent.com/vision-agh/poc_sw/master/03_Histogram/lena3.bmp --no-check-certificate\n",
    "\n",
    "if not os.path.exists(\"lena4.bmp\") :\n",
    "    !wget https://raw.githubusercontent.com/vision-agh/poc_sw/master/03_Histogram/lena4.bmp --no-check-certificate\n",
    "\n"
   ]
  },
  {
   "cell_type": "code",
   "execution_count": null,
   "metadata": {},
   "outputs": [],
   "source": [
    "I_1 = cv2.imread('lena1.bmp', cv2.IMREAD_GRAYSCALE)\n",
    "I_2 = cv2.imread('lena2.bmp', cv2.IMREAD_GRAYSCALE)\n",
    "I_3 = cv2.imread('lena3.bmp', cv2.IMREAD_GRAYSCALE)\n",
    "I_4 = cv2.imread('lena4.bmp', cv2.IMREAD_GRAYSCALE)\n",
    "\n",
    "hist_lean_1 = cv2.calcHist([I_1], [0], None, [256], [0, 256])\n",
    "hist_lean_2 = cv2.calcHist([I_2], [0], None, [256], [0, 256])\n",
    "hist_lean_3 = cv2.calcHist([I_3], [0], None, [256], [0, 256])\n",
    "hist_lean_4 = cv2.calcHist([I_4], [0], None, [256], [0, 256])\n",
    "\n",
    "figLena, axsLena = plt.subplots(2,4)\n",
    "figLena.set_size_inches(20, 10)\n",
    "axsLena[0, 0].imshow(I_1, 'gray', vmin=0, vmax=256)\n",
    "axsLena[0, 0].axis('off')\n",
    "axsLena[1, 0].plot(hist_lean_1)\n",
    "axsLena[1, 0].grid()\n",
    "\n",
    "axsLena[0, 1].imshow(I_2, 'gray', vmin=0, vmax=256)\n",
    "axsLena[0, 1].axis('off')\n",
    "axsLena[1, 1].plot(hist_lean_2)\n",
    "axsLena[1, 1].grid()\n",
    "\n",
    "axsLena[0, 2].imshow(I_3, 'gray', vmin=0, vmax=256)\n",
    "axsLena[0, 2].axis('off')\n",
    "axsLena[1, 2].plot(hist_lean_3)\n",
    "axsLena[1, 2].grid()\n",
    "\n",
    "axsLena[0, 3].imshow(I_4, 'gray', vmin=0, vmax=256)\n",
    "axsLena[0, 3].axis('off')\n",
    "axsLena[1, 3].plot(hist_lean_4)\n",
    "axsLena[1, 3].grid()"
   ]
  },
  {
   "cell_type": "markdown",
   "metadata": {
    "collapsed": false,
    "pycharm": {
     "name": "#%% md\n"
    }
   },
   "source": [
    "## Rozciąganie histogramu\n",
    "\n",
    "Najprostszą metodą poprawienia jakości obrazu jest tzw. rozciągnięcie histogramu.\n",
    "Polega na przeskalowaniu wartości pikseli w obrazie tak, aby wykorzystać cały dostępny zakres [0-255] (oczywiście w przypadku obrazów w odcieniach szarości w reprezentacji 8-bitowej).\n",
    "\n",
    "1. Wczytaj obraz *hist1.bmp* w skali szarości.\n",
    "Oblicz i wyświetl histogram rozpatrywanego obrazu (na wspólnym rysunku z obrazem).\n",
    "Zwróć uwagę na ilość widocznych szczegółów.\n",
    "2. Rozciągnij histogram obrazu. W tym celu można wykorzystać funkcję `cv2.normalize`.\n",
    "    - Pierwszym argumentem funkcji jest obraz poddawany operacji.\n",
    "    - Drugim argumentem jest tablica do której zostanie wpisany wynik.\n",
    "    Należy ją najpierw zainicjalizować.\n",
    "    Najlepiej zrobić to funkcją `np.zeros`, której pierwszym argumentem jest rozmiar obrazu (`I.shape`), a drugim typ danych (`uint8`).\n",
    "    Można również przekazać `None`, a wynik przypisać do nowej zmiennej.\n",
    "    - Trzecim argumentem jest minimalna wartość po normalizacji.\n",
    "    - Czwartym argumentem jest wartość maksymalna po normalizacji.\n",
    "    - Ostatnim argumentem jest typ wykorzystanej normy (uogólnienie pojęcia długości wektora).\n",
    "    Należy wykorzystać normę `cv2.NORM_MINMAX`.\n",
    "3. Rezultat operacji wyświetl (obraz i jego histogram).\n",
    "4. Czy ilość \"widocznych\" szczegółów uległa zmianie?"
   ]
  },
  {
   "cell_type": "code",
   "execution_count": null,
   "metadata": {
    "collapsed": false,
    "pycharm": {
     "name": "#%% Zadanie 2 - rozciąganie\n"
    }
   },
   "outputs": [],
   "source": [
    "if not os.path.exists(\"hist1.bmp\") :\n",
    "    !wget https://raw.githubusercontent.com/vision-agh/poc_sw/master/03_Histogram/hist1.bmp --no-check-certificate\n",
    "\n",
    "if not os.path.exists(\"hist2.bmp\") :\n",
    "    !wget https://raw.githubusercontent.com/vision-agh/poc_sw/master/03_Histogram/hist2.bmp --no-check-certificate\n",
    "\n",
    "if not os.path.exists(\"hist3.bmp\") :\n",
    "    !wget https://raw.githubusercontent.com/vision-agh/poc_sw/master/03_Histogram/hist3.bmp --no-check-certificate\n",
    "\n",
    "if not os.path.exists(\"hist4.bmp\") :\n",
    "    !wget https://raw.githubusercontent.com/vision-agh/poc_sw/master/03_Histogram/hist4.bmp --no-check-certificate\n",
    "\n"
   ]
  },
  {
   "cell_type": "code",
   "execution_count": null,
   "metadata": {},
   "outputs": [],
   "source": [
    "H_1 = cv2.imread('hist1.bmp', cv2.IMREAD_GRAYSCALE)\n",
    "hist_l = cv2.calcHist([H_1], [0], None, [256], [0, 256])\n",
    "\n",
    "fig, ax = plt.subplots(1,2)\n",
    "fig.set_size_inches(10, 5)\n",
    "ax[0].imshow(H_1, 'gray', vmin=0, vmax=256)\n",
    "ax[0].axis('off')\n",
    "ax[1].plot(hist_l)\n",
    "ax[1].grid()"
   ]
  },
  {
   "cell_type": "code",
   "execution_count": null,
   "metadata": {},
   "outputs": [],
   "source": [
    "H_2 = cv2.imread('hist2.bmp', cv2.IMREAD_GRAYSCALE)\n",
    "H_3 = cv2.imread('hist3.bmp', cv2.IMREAD_GRAYSCALE)\n",
    "H_4 = cv2.imread('hist4.bmp', cv2.IMREAD_GRAYSCALE)\n",
    "\n",
    "tab_1 = np.zeros(H_1.shape, 'uint8')\n",
    "tab_2 = np.zeros(H_2.shape, 'uint8')\n",
    "tab_3 = np.zeros(H_3.shape, 'uint8')\n",
    "tab_4 = np.zeros(H_4.shape, 'uint8')\n",
    "\n",
    "hist_1_norm = cv2.normalize(H_1, tab_1, 0, 255, cv2.NORM_MINMAX)\n",
    "hist_2_norm = cv2.normalize(H_2, tab_2, 0, 255, cv2.NORM_MINMAX)\n",
    "hist_3_norm = cv2.normalize(H_3, tab_3, 0, 255, cv2.NORM_MINMAX)\n",
    "hist_4_norm = cv2.normalize(H_4, tab_4, 0, 255, cv2.NORM_MINMAX)\n",
    "\n",
    "hist_1 = cv2.calcHist([hist_1_norm], [0], None, [256], [0, 256])\n",
    "hist_2 = cv2.calcHist([hist_2_norm], [0], None, [256], [0, 256])\n",
    "hist_3 = cv2.calcHist([hist_3_norm], [0], None, [256], [0, 256])\n",
    "hist_4 = cv2.calcHist([hist_4_norm], [0], None, [256], [0, 256])\n",
    "\n",
    "\n",
    "figLena, axsLena = plt.subplots(2,4)\n",
    "figLena.set_size_inches(20, 10)\n",
    "axsLena[0, 0].imshow(hist_1_norm, 'gray', vmin=0, vmax=256)\n",
    "axsLena[0, 0].axis('off')\n",
    "axsLena[1, 0].plot(hist_1)\n",
    "axsLena[1, 0].grid()\n",
    "\n",
    "axsLena[0, 1].imshow(hist_2_norm, 'gray', vmin=0, vmax=256)\n",
    "axsLena[0, 1].axis('off')\n",
    "axsLena[1, 1].plot(hist_2)\n",
    "axsLena[1, 1].grid()\n",
    "\n",
    "axsLena[0, 2].imshow(hist_3_norm, 'gray', vmin=0, vmax=256)\n",
    "axsLena[0, 2].axis('off')\n",
    "axsLena[1, 2].plot(hist_3)\n",
    "axsLena[1, 2].grid()\n",
    "\n",
    "axsLena[0, 3].imshow(hist_4_norm, 'gray', vmin=0, vmax=256)\n",
    "axsLena[0, 3].axis('off')\n",
    "axsLena[1, 3].plot(hist_4)\n",
    "axsLena[1, 3].grid()"
   ]
  },
  {
   "cell_type": "markdown",
   "metadata": {
    "collapsed": false,
    "pycharm": {
     "name": "#%% md\n"
    }
   },
   "source": [
    "## Wyrównywanie histogramu\n",
    "\n",
    "<div style=\"text-align: justify\">\n",
    "Bardziej zaawansowaną metodą jest tzw. wyrównywanie histogramu (ang. *histogram equalization – HE*).\n",
    "Idea jest następująca: z punktu widzenia lepszego wykorzystania dostępnych poziomów jasności pożądane jest rozciągnięcie \"szczytów\" histogramu, a~skompresowanie \"dolin\" tak, aby taka sama liczba pikseli reprezentowana była przez każdy z dostępnych poziomów jasności (a przynjamniej przybliżona).\n",
    "Warto zwrócić uwagę, że takie przekształcenie powoduje częściową utratę informacji o szczegółach w obszarach \"dolin\".\n",
    "Inaczej mówiąc, dążymy do sytuacji, aby histogram był względnie jednostajny.\n",
    "Operacją, która pozwala wykonać wyrównywanie histogramu, jest przekształcenie LUT z funkcją przejścia w postaci histogramu skumulowanego danego obrazu.</div><br>\n",
    "\n",
    "<div style=\"text-align: justify\">\n",
    "Histogram skumulowany to funkcja obliczona na podstawie histogramu.\n",
    "Jej pierwszy element to liczba pikseli o odcieniu $0$.\n",
    "Kolejne wartości to liczba pikseli o odcieniach od $0$ do $n$.</div>\n",
    "\n",
    "\\begin{equation}\n",
    "C(n) = \\sum_{i=0}^{n} h(i)\n",
    "\\end{equation}\n",
    "\n",
    "<div style=\"text-align: justify\">\n",
    "Jeżeli histogram jest w postaci znormalizowanej (gęstość rozkładu prawdopodobieństwa) to histogram skumulowany stanowi dystrybuantę rozkładu prawdopodobieństwa.</div><br>\n",
    "\n",
    "1. Wyznacz histogram skumulowany dla obrazu *hist1.bmp*.\n",
    "W tym celu wykorzystaj metodę `cumsum` dla histogramu wczytanego obrazu.\n",
    "Nie przyjmuje ona żadnych argumentów, a zwraca skumulowane wartości tablicy, dla której została użyta.\n",
    "Histogram należy wyliczyć dla **obrazka wejściowego**, a nie dla wyniku rozciągania.\n",
    "2. Histogram skumulowany wyświetl razem z histogramem zwykłym na jednym wykresie (nie obok siebie).\n",
    "Na potrzeby wyświetlenia przeskaluj histogram skumulowany tak, by miał taką samą wartość maksymalną jak zwykły histogram.\n",
    "W tym celu wykorzystaj metodę `max`.\n",
    "3. Wyświetlenie kilku linii na jednym wykresie może być zrealizowane w następujący sposób:\n",
    "        figHistCum, axsHistCum = plt.subplots()\n",
    "\n",
    "        axsHistCum.plot(HHist)\n",
    "        axsHistCum.plot(CHistNorm)\n",
    "        axsHistCum.grid()\n",
    "4. Teraz zaimplementuj klasyczny algorytm wyrównywania histogramu.\n",
    "Wykorzystać należy obliczony histogram skumulowany.\n",
    "Należy go przeskalować w taki sposób aby na jego podstawie zrealizować przekształcenie LUT, czyli do zakresu 0 - 255.\n",
    "\n",
    ">Uwaga. Opisany algorytm wyrównywania histogramu jest wersją uproszczoną.\n",
    ">W wersji pełnej należy podczas skalowania tablicy przekodowań LUT pominąć elementy równe *0*.\n",
    ">\n",
    ">W tym celu należy wykorzystać funkcje `np.ma.masked_equal` i `np.ma.filled`.\n",
    ">Pierwsza służy do ukrywania elementów tablicy, natomiast druga zamienia ukryte elementy na podaną wartość.\n",
    ">W tym przypadku elementem ukrywanym i wpisywaną wartością byłoby *0*.\n",
    "\n",
    "5. Na kolejnym rysunku wyświetl obrazek po przekształceniu, jego histogram oraz histogram skumulowany.\n",
    "Co szczególnego można powiedzieć o jego histogramie i histogramie skumulowanym?\n",
    "6. W bibliotece *OpenCV* dostępna jest funkcja wykonująca wyrównywanie histogramu `cv2.equalizeHist`.\n",
    "Jej argumentem jest obraz, którego histogram zostanie wyrównany. Zwraca natomiast obraz wynikowy.\n",
    "Na kolejnym rysunku wyświetl wynik funkcji, jego histogram oraz histogram skumulowany.\n",
    "7. W wykorzystywanej bibliotece zaimplementowana jest również metoda adaptacyjnego wyrównywania histogramu algorytmem CLAHE (ang. *Contrast Limited Adaptive Histogram Equalization*}.\n",
    "   Kilka słów wyjaśnienia.\n",
    "   Wadą poznanej metody HE jest jej \"globalność\" rozumiana jako nieuwzględnianie lokalnych właściwości obrazu.\n",
    "   Dlatego też powstała metoda adaptacyjnego wyrównywania histogramu (AHE).\n",
    "   Jest ona spotykana w dwóch wariantach:\n",
    "   - dla każdego piksela niezależnie, w pewnym jego otoczeniu, wyznaczany jest histogram i przeprowadzane wyrównywanie.\n",
    "     Jak nietrudno się domyślić rozwiązanie jest dość kosztowne obliczeniowo.\n",
    "   - obraz wejściowy dzielony jest na nienachodzące na siebie prostokątne okna.\n",
    "     W każdym z okien obliczany jest histogram i przeprowadzane jest wyrównywanie.\n",
    "     W celu eliminacji błędów na granicy okien, stosuje się interpolację.\n",
    "\n",
    "   Metoda AHE ma jednak tą wadę, że w obszarach jednorodnych wzmacnia szum.\n",
    "   Dlatego też zaproponowano rozwiązanie CLAHE, które zakłada ograniczenie kontrastu (CL).\n",
    "   W metodzie definiuje się maksymalną wartość danego przedziału histogramu (próg ograniczenia kontrastu).\n",
    "   Piksele, które przekraczają próg są następnie równomiernie rozdzielane pomiędzy poszczególne przedziały.\n",
    "   Bardziej szczegółowy opis obu metod dostępny jest na [Wikipedii](https://en.wikipedia.org/wiki/Adaptive_histogram_equalization).\n",
    "\n",
    "8.W celu użycia algorytmu należy wywołać funkcję `cv2.createCLAHE`.\n",
    "    - Pierwszym parametrem jest próg ograniczenia kontrastu.\n",
    "    - Drugi parametr definiuje na ile prostokątów zostanie podzielony obraz w rzęch i kolumnach.\n",
    "    - Zwracany jest zainicjalizowany *smart pointer* do klasy `cv::CLAHE`.\n",
    "9. Aby wykonać wyrównywanie należy użyć metody `apply`.\n",
    "Jej argumentem jest obraz wejściowy. Zwracany jest obraz o zmodyfikowanym histogramie.\n",
    "10. Przetestuj różne parametry algorytmu CLAHE.\n",
    "11. W kolejnym etapie należy przetestować operacje (rozciąganie, wyrównywanie (HE) i adaptacyjne wyrównywanie CLAHE)  na histogramie dla obrazów rzeczywistych. *hist2.bmp*, *hist3.bmp*, *hist4.jpg*.\n",
    "W jednym oknie wyświetl: obraz oryginalny, rozciąganie, wyrównywanie HE oraz wyrównywanie CLAHE."
   ]
  },
  {
   "cell_type": "code",
   "execution_count": null,
   "metadata": {
    "collapsed": false,
    "pycharm": {
     "name": "#%% Zadanie 3 - histogram skumulowany\n"
    }
   },
   "outputs": [],
   "source": [
    "hist_1 = cv2.calcHist([H_1], [0], None, [256], [0, 256])\n",
    "\n",
    "hist_cumu=hist_1.cumsum()\n",
    "hist_cumu_norm=cv2.normalize(hist_cumu, None, 0, hist_1.max(), cv2.NORM_MINMAX)\n",
    "figHistCum, axsHistCum = plt.subplots()\n",
    "axsHistCum.plot(hist_1)\n",
    "axsHistCum.plot(hist_cumu_norm)\n",
    "axsHistCum.grid()\n"
   ]
  },
  {
   "cell_type": "code",
   "execution_count": null,
   "metadata": {
    "collapsed": false,
    "pycharm": {
     "name": "#%% Zadanie 3 - wyrównywanie\n"
    }
   },
   "outputs": [],
   "source": [
    "hist1_cum_scaled = (hist_cumu_norm - hist_cumu_norm.min()) * 255 / (hist_cumu_norm.max() - hist_cumu_norm.min())\n",
    "LUT = np.zeros((256,1), 'uint8')\n",
    "for i in range(256):\n",
    "    LUT[i] = hist1_cum_scaled[i]\n",
    "\n",
    "hist_eq = cv2.LUT(H_1, LUT)\n",
    "\n",
    "H_eq = cv2.calcHist([hist_eq], [0], None, [256], [0, 256])\n",
    "\n",
    "hist_1_eq_cumu = H_eq.cumsum()\n",
    "\n",
    "fig, axes = plt.subplots(1, 3, figsize=(15, 5))\n",
    "axes[0].imshow(hist_eq, cmap='gray')\n",
    "axes[0].axis('off')\n",
    "axes[1].plot(H_eq)\n",
    "axes[2].plot(hist_1_eq_cumu)\n",
    "axes[0].set_title('Obraz')\n",
    "axes[1].set_title('Histogram')\n",
    "axes[2].set_title('Histogram skumulowany')\n",
    "plt.show()\n",
    "\n",
    "# Hisogram skumulowanmy mówi nam że mamy zagęszczenie na brzegach a więc wiecej bieli oraz czerni na obrazku (jest on bardziej dokładny). Histogram skumulowany mówi nam natomiast że odcień szarości na tym obrazie jest równomiernie reprezentowany"
   ]
  },
  {
   "cell_type": "code",
   "execution_count": null,
   "metadata": {
    "collapsed": false,
    "pycharm": {
     "name": "#%% Zadanie 3 - wyrównywanie OpenCV\n"
    }
   },
   "outputs": [],
   "source": [
    "def plot_img_hist_cum(img,title=''):\n",
    "    histogram=cv2.calcHist([img],[0],None,[256],[0,256])\n",
    "    histogram_cumu=histogram.cumsum()\n",
    "    \n",
    "    f, (ax1,ax2,ax3) = plt.subplots(1,3,figsize=(15,5))\n",
    "    f.suptitle(title, fontsize=16)\n",
    "    ax1.imshow(img, 'gray', vmin=0, vmax=256)\n",
    "    ax1.axis('off')\n",
    "    ax2.plot(histogram)\n",
    "    ax2.grid()\n",
    "    ax3.plot(histogram_cumu)\n",
    "    ax3.grid()\n",
    "    ax1.set_title('Obraz')\n",
    "    ax2.set_title('Histogram')\n",
    "    ax3.set_title('Histogram skumulowany')\n",
    "\n",
    "\n",
    "clahe=cv2.createCLAHE(clipLimit=25, tileGridSize=(4,4))\n",
    "clahe=clahe.apply(H_1)\n",
    "plot_img_hist_cum(clahe)"
   ]
  },
  {
   "cell_type": "code",
   "execution_count": null,
   "metadata": {
    "collapsed": false,
    "pycharm": {
     "name": "#%% Zadanie 3 - CLAHE\n"
    }
   },
   "outputs": [],
   "source": [
    "def plot_multiple_and_compare(img,cliplim,tilegride):\n",
    "    image_norma=cv2.normalize(img,None,0,255,cv2.NORM_MINMAX)\n",
    "    plot_img_hist_cum(image_norma,title=\"Rozciąganie\")\n",
    "    equalizer=cv2.equalizeHist(img)\n",
    "    plot_img_hist_cum(equalizer,title=\"Wyrównywanie\")\n",
    "    clahe=cv2.createCLAHE(clipLimit=cliplim, tileGridSize=tilegride)\n",
    "    clahe=clahe.apply(img)\n",
    "    plot_img_hist_cum(clahe,title=\"Adaptacyjne wyrównywanie\")\n",
    "\n",
    "H_2 = cv2.imread(\"hist2.bmp\", cv2.IMREAD_GRAYSCALE)\n",
    "H_3 = cv2.imread(\"hist3.bmp\", cv2.IMREAD_GRAYSCALE)\n",
    "H_4 = cv2.imread(\"hist4.bmp\", cv2.IMREAD_GRAYSCALE)\n",
    "\n",
    "plot_multiple_and_compare(H_2,cliplim=30,tilegride=(4,4))\n",
    "plot_multiple_and_compare(H_3,cliplim=40,tilegride=(4,4))\n",
    "plot_multiple_and_compare(H_4,cliplim=50,tilegride=(4,4))"
   ]
  },
  {
   "cell_type": "markdown",
   "metadata": {
    "collapsed": false,
    "pycharm": {
     "name": "#%% md\n"
    }
   },
   "source": [
    "## Histogram dla obrazów kolorowych i jego wyrównywanie\n",
    "\n",
    "1. Wczytaj obraz *lenaRGB.bmp*.\n",
    "2. Wykonaj konwersję przestrzeni barw z BGR do RGB.\n",
    "3. Wyświetl wczytany obraz oraz histogram dla każdej składowej przestrzeni barw.\n",
    "W tym celu można użyć drugiego argumentu wykorzystywanej funkcji (numer kanału).\n",
    "4. Wykonaj wyrównywanie dla każdej składowej obrazu.\n",
    "Połącz otrzymane składowe w nowy obraz i wyświetl go.\n",
    "Jaka jest zasadnicza wada takiego podejścia?\n",
    "5. Przekształć obraz wejściowy do przestrzeni HSV (flaga `cv2.COLOR_BGR2HSV`).\n",
    "Wyświetl histogramy poszczególnych składowych.\n",
    "Manipulacji dokonujemy na składowej odpowiadającej za jasność, czyli V.\n",
    "Wykonaj wyrównywanie histogramu dla tej składowej.\n",
    "Dokonaj podmiany składowej V i wyświetl rezultat operacji.\n",
    "Uprzednio przeprowadź konwersję HSV->RGB (flaga `cv2.COLOR_HSV2RGB`).\n",
    "6. Wykonaj te same operacje dla obrazu *jezioro.jpg*."
   ]
  },
  {
   "cell_type": "code",
   "execution_count": null,
   "metadata": {
    "collapsed": false,
    "pycharm": {
     "name": "#%% Zadanie 4 - histogram\n"
    }
   },
   "outputs": [],
   "source": [
    "if not os.path.exists(\"lenaRGB.bmp\") :\n",
    "    !wget https://raw.githubusercontent.com/vision-agh/poc_sw/master/03_Histogram/lenaRGB.bmp --no-check-certificate\n",
    "\n",
    "if not os.path.exists(\"jezioro.jpg\") :\n",
    "    !wget https://raw.githubusercontent.com/vision-agh/poc_sw/master/03_Histogram/jezioro.jpg --no-check-certificate\n",
    "\n"
   ]
  },
  {
   "cell_type": "code",
   "execution_count": null,
   "metadata": {
    "collapsed": false,
    "pycharm": {
     "name": "#%% Zadanie 4 - wyrównanie\n"
    }
   },
   "outputs": [],
   "source": [
    "lenaBGR = cv2.imread('lenaRGB.bmp')\n",
    "\n",
    "lenaRGB = cv2.cvtColor(lenaBGR, cv2.COLOR_BGR2RGB)\n",
    "\n",
    "hist_lena_1=cv2.calcHist([lenaRGB],[0],None,[256],[0,256])\n",
    "hist_lena_2=cv2.calcHist([lenaRGB],[1],None,[256],[0,256])\n",
    "hist_lena_3=cv2.calcHist([lenaRGB],[2],None,[256],[0,256])\n",
    "\n",
    "fig, axes = plt.subplots(1, 4, figsize=(20, 4))\n",
    "axes[0].imshow(lenaRGB, vmin=0, vmax=256)\n",
    "axes[0].axis('off')\n",
    "axes[1].plot(hist_lena_1)\n",
    "axes[1].grid()\n",
    "axes[2].plot(hist_lena_2)\n",
    "axes[2].grid()\n",
    "axes[3].plot(hist_lena_3)\n",
    "axes[3].grid()\n"
   ]
  },
  {
   "cell_type": "code",
   "execution_count": null,
   "metadata": {
    "collapsed": false,
    "pycharm": {
     "name": "#%% Zadanie 4 - HSV histogram\n"
    }
   },
   "outputs": [],
   "source": [
    "lena_equalized_1 = cv2.equalizeHist(lenaRGB[:,:,0])\n",
    "lena_equalized_2 = cv2.equalizeHist(lenaRGB[:,:,1])\n",
    "lena_equalized_3 = cv2.equalizeHist(lenaRGB[:,:,2])\n",
    "\n",
    "mergede_img=np.zeros((512,512,3))\n",
    "mergede_img[:,:,0]=lena_equalized_1\n",
    "mergede_img[:,:,1]=lena_equalized_2\n",
    "mergede_img[:,:,2]=lena_equalized_3\n",
    "\n",
    "result=cv2.normalize(mergede_img,None,0,255,cv2.NORM_MINMAX)\n",
    "result=result.astype('uint8')\n",
    "\n",
    "plt.imshow(result)\n",
    "plt.xticks([]), plt.yticks([])\n",
    "plt.show()\n",
    "#Takie podejście podbija nam znacznie kolory widoczne na obrazie"
   ]
  },
  {
   "cell_type": "code",
   "execution_count": null,
   "metadata": {
    "collapsed": false,
    "pycharm": {
     "name": "#%% Zadanie 4 - HSV wyrównanie\n"
    }
   },
   "outputs": [],
   "source": [
    "lena_hsv = cv2.cvtColor(lenaBGR, cv2.COLOR_BGR2HSV)\n",
    "\n",
    "lena_hsv_1=cv2.calcHist([lena_hsv], [0], None, [256], [0,256])\n",
    "lena_hsv_2=cv2.calcHist([lena_hsv], [1], None, [256], [0,256])\n",
    "lena_hsv_3=cv2.calcHist([lena_hsv], [2], None, [256], [0,256])\n",
    "\n",
    "fig, axes = plt.subplots(1, 3, figsize=(20, 4))\n",
    "axes[0].plot(lena_hsv_1)\n",
    "axes[0].grid()\n",
    "axes[1].plot(lena_hsv_2)\n",
    "axes[1].grid()\n",
    "axes[2].plot(lena_hsv_3)\n",
    "axes[2].grid()\n",
    "plt.show()\n",
    "\n",
    "lena_hsv_norm=cv2.equalizeHist(lena_hsv[:,:,2])\n",
    "\n",
    "lena_hsv[:,:,2]=lena_hsv_norm\n",
    "\n",
    "lena_normalized = cv2.cvtColor(lena_hsv, cv2.COLOR_HSV2RGB)\n",
    "lena_normalized_rgb=cv2.normalize(lena_normalized, None, 0, 255, cv2.NORM_MINMAX)\n",
    "lena_normalized_rgb=lena_normalized_rgb.astype('uint8')\n",
    "\n",
    "\n",
    "plt.imshow(lena_normalized_rgb)\n",
    "plt.xticks([]), plt.yticks([])\n",
    "plt.show()\n"
   ]
  },
  {
   "cell_type": "code",
   "execution_count": null,
   "metadata": {},
   "outputs": [],
   "source": [
    "jezioroBGR = cv2.imread('jezioro.jpg')\n",
    "\n",
    "jezioroRGB = cv2.cvtColor(jezioroBGR, cv2.COLOR_BGR2RGB)\n",
    "\n",
    "hist_jezioro_1=cv2.calcHist([jezioroRGB],[0],None,[256],[0,256])\n",
    "hist_jezioro_2=cv2.calcHist([jezioroRGB],[1],None,[256],[0,256])\n",
    "hist_jezioro_3=cv2.calcHist([jezioroRGB],[2],None,[256],[0,256])\n",
    "\n",
    "fig, axes = plt.subplots(1, 4, figsize=(20, 4))\n",
    "axes[0].imshow(jezioroRGB, vmin=0, vmax=256)\n",
    "axes[0].axis('off')\n",
    "axes[1].plot(hist_jezioro_1)\n",
    "axes[1].grid()\n",
    "axes[2].plot(hist_jezioro_1)\n",
    "axes[2].grid()\n",
    "axes[3].plot(hist_jezioro_1)\n",
    "axes[3].grid()\n",
    "plt.show()\n",
    "\n",
    "\n",
    "jezioro_equalized_1 = cv2.equalizeHist(jezioroRGB[:,:,0])\n",
    "jezioro_equalized_2 = cv2.equalizeHist(jezioroRGB[:,:,1])\n",
    "jezioro_equalized_3 = cv2.equalizeHist(jezioroRGB[:,:,2])\n",
    "\n",
    "mergede_img=np.zeros(jezioroBGR.shape)\n",
    "mergede_img[:,:,0] = jezioro_equalized_1\n",
    "mergede_img[:,:,1] = jezioro_equalized_2\n",
    "mergede_img[:,:,2] = jezioro_equalized_3\n",
    "\n",
    "result=cv2.normalize(mergede_img, None, 0, 255, cv2.NORM_MINMAX)\n",
    "result=result.astype('uint8')\n",
    "\n",
    "plt.imshow(result)\n",
    "plt.xticks([]), plt.yticks([])\n",
    "plt.show()\n",
    "\n",
    "jezioro_hsv = cv2.cvtColor(jezioroBGR, cv2.COLOR_BGR2HSV)\n",
    "\n",
    "jezioro_hsv_1 = cv2.calcHist([jezioro_hsv], [0], None, [256], [0,256])\n",
    "jezioro_hsv_2 = cv2.calcHist([jezioro_hsv], [1], None, [256], [0,256])\n",
    "jezioro_hsv_3 = cv2.calcHist([jezioro_hsv], [2], None, [256], [0,256])\n",
    "\n",
    "fig, axes = plt.subplots(1, 3, figsize=(20, 4))\n",
    "axes[0].plot(jezioro_hsv_1)\n",
    "axes[0].grid()\n",
    "axes[1].plot(jezioro_hsv_2)\n",
    "axes[1].grid()\n",
    "axes[2].plot(jezioro_hsv_3)\n",
    "axes[2].grid()\n",
    "plt.show()\n",
    "\n",
    "jezioro_hsv_norm = cv2.equalizeHist(jezioro_hsv[:,:,2])\n",
    "\n",
    "jezioro_hsv[:,:,2] = jezioro_hsv_norm\n",
    "\n",
    "jezioro_normalized = cv2.cvtColor(jezioro_hsv, cv2.COLOR_HSV2RGB)\n",
    "jezioro_normalized_rgb=cv2.normalize(jezioro_normalized, None, 0, 255, cv2.NORM_MINMAX)\n",
    "jezioro_normalized_rgb=jezioro_normalized_rgb.astype('uint8')\n",
    "\n",
    "\n",
    "plt.imshow(jezioro_normalized_rgb)\n",
    "plt.xticks([]), plt.yticks([])\n",
    "plt.show()"
   ]
  }
 ],
 "metadata": {
  "kernelspec": {
   "display_name": "Python 3",
   "language": "python",
   "name": "python3"
  },
  "language_info": {
   "codemirror_mode": {
    "name": "ipython",
    "version": 3
   },
   "file_extension": ".py",
   "mimetype": "text/x-python",
   "name": "python",
   "nbconvert_exporter": "python",
   "pygments_lexer": "ipython3",
   "version": "3.10.7"
  }
 },
 "nbformat": 4,
 "nbformat_minor": 4
}
